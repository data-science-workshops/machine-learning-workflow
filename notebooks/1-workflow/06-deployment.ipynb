{
 "cells": [
  {
   "cell_type": "markdown",
   "metadata": {},
   "source": [
    "# Pipeline AI"
   ]
  },
  {
   "cell_type": "code",
   "execution_count": 1,
   "metadata": {},
   "outputs": [],
   "source": [
    "import os"
   ]
  },
  {
   "cell_type": "markdown",
   "metadata": {},
   "source": [
    "### Variables"
   ]
  },
  {
   "cell_type": "code",
   "execution_count": null,
   "metadata": {},
   "outputs": [],
   "source": [
    "env = {\n",
    "    'MODEL_NAME': 'safedriver',\n",
    "    'MODEL_TAG': 'v1',\n",
    "    'MODEL_TYPE': 'scikit',\n",
    "    'MODEL_RUNTIME': 'python',\n",
    "    'MODEL_PATH': './model/',\n",
    "    'INPUT_HOST_PATH': './model/',\n",
    "    'OUTPUT_HOST_PATH': './model/',\n",
    "    'TRAINING_RUNS_HOST': './model/',\n",
    "    'TRAIN_ARGS': '',\n",
    "    'PREDCIT_PORT': '8989',\n",
    "}"
   ]
  },
  {
   "cell_type": "markdown",
   "metadata": {},
   "source": [
    "## Training\n",
    "\n",
    "[Train a Scikit-Learn Model with PipelineAI](https://github.com/PipelineAI/pipeline/blob/master/docs/quickstart/docker/README-training.md#train-a-scikit-learn-model)"
   ]
  },
  {
   "cell_type": "markdown",
   "metadata": {},
   "source": [
    "### Build Training Server"
   ]
  },
  {
   "cell_type": "code",
   "execution_count": null,
   "metadata": {
    "cell_style": "center"
   },
   "outputs": [],
   "source": [
    "command = \\\n",
    "[\n",
    "    'pipeline',\n",
    "    'train-server-build',\n",
    "    '--model-name={MODEL_NAME}',\n",
    "    '--model-tag={MODEL_TAG}',\n",
    "    '--model-type={MODEL_TYPE}',\n",
    "    '--model-path={MODEL_PATH}',\n",
    "]\n",
    "\n",
    "out = os.popen(' '.join(command).format(**env)).read()\n",
    "print(out)"
   ]
  },
  {
   "cell_type": "markdown",
   "metadata": {},
   "source": [
    "### Start Training Server"
   ]
  },
  {
   "cell_type": "code",
   "execution_count": null,
   "metadata": {
    "scrolled": true
   },
   "outputs": [],
   "source": [
    "command = \\\n",
    "[\n",
    "    'pipeline',\n",
    "    'train-server-start',\n",
    "    '--model-name={MODEL_NAME}',\n",
    "    '--model-tag={MODEL_TAG}',\n",
    "    '--input-host-path={INPUT_HOST_PATH}',\n",
    "    '--output-host-path={OUTPUT_HOST_PATH}',\n",
    "    '--training-runs-host-path={TRAINING_RUNS_HOST}',\n",
    "    '--train-args={TRAIN_ARGS}',\n",
    "]\n",
    "\n",
    "out = os.popen(' '.join(command).format(**env)).read()\n",
    "print(out)"
   ]
  },
  {
   "cell_type": "markdown",
   "metadata": {},
   "source": [
    "### View the Training Logs"
   ]
  },
  {
   "cell_type": "code",
   "execution_count": null,
   "metadata": {},
   "outputs": [],
   "source": [
    "command = \\\n",
    "[\n",
    "    'pipeline',\n",
    "    'pipeline train-server-logs',\n",
    "    '--model-name={MODEL_NAME}',\n",
    "    '--model-tag={MODEL_TAG}',\n",
    "]\n",
    "\n",
    "out = os.popen(' '.join(command).format(**env)).read()\n",
    "print(out)"
   ]
  },
  {
   "cell_type": "markdown",
   "metadata": {},
   "source": [
    "### Stop Training Server"
   ]
  },
  {
   "cell_type": "code",
   "execution_count": null,
   "metadata": {},
   "outputs": [],
   "source": [
    "command = \\\n",
    "[\n",
    "    'pipeline', \n",
    "    'train-server-stop', \n",
    "    '--model-name={MODEL_NAME}', \n",
    "    '--model-tag={MODEL_TAG}'\n",
    "]\n",
    "\n",
    "out = os.popen(' '.join(command).format(**env)).read()\n",
    "print(out)"
   ]
  },
  {
   "cell_type": "markdown",
   "metadata": {},
   "source": [
    "## Deployment\n",
    "\n",
    "[Deploy a Scikit-Learn Model with PipelineAI](https://github.com/PipelineAI/pipeline/tree/master/docs/quickstart/docker#deploy-a-scikit-learn-model)"
   ]
  },
  {
   "cell_type": "markdown",
   "metadata": {
    "cell_style": "center"
   },
   "source": [
    "### Build the Model into a Runnable Docker Image"
   ]
  },
  {
   "cell_type": "code",
   "execution_count": null,
   "metadata": {},
   "outputs": [],
   "source": [
    "command = \\\n",
    "[\n",
    "    'pipeline', \n",
    "    'predict-server-build', \n",
    "    '--model-name={MODEL_NAME}', \n",
    "    '--model-tag={MODEL_TAG}',\n",
    "    '--model-type={MODEL_TYPE}',\n",
    "    '--model-runtime={MODEL_RUNTIME}',\n",
    "    '--model-path={MODEL_PATH}',\n",
    "]\n",
    "\n",
    "out = os.popen(' '.join(command).format(**env)).read()\n",
    "print(out)"
   ]
  },
  {
   "cell_type": "markdown",
   "metadata": {},
   "source": [
    "### Start the Model Server"
   ]
  },
  {
   "cell_type": "code",
   "execution_count": null,
   "metadata": {},
   "outputs": [],
   "source": [
    "command = \\\n",
    "[\n",
    "    'pipeline', \n",
    "    'predict-server-start', \n",
    "    '--model-name={MODEL_NAME}', \n",
    "    '--model-tag={MODEL_TAG}',\n",
    "    '--predict-port={PREDCIT_PORT}',\n",
    "]\n",
    "\n",
    "out = os.popen(' '.join(command).format(**env)).read()\n",
    "print(out)"
   ]
  },
  {
   "cell_type": "markdown",
   "metadata": {},
   "source": [
    "### Monitor Runtime Logs"
   ]
  },
  {
   "cell_type": "code",
   "execution_count": null,
   "metadata": {},
   "outputs": [],
   "source": [
    "command = \\\n",
    "[\n",
    "    'pipeline', \n",
    "    'predict-server-logs', \n",
    "    '--model-name={MODEL_NAME}', \n",
    "    '--model-tag={MODEL_TAG}',\n",
    "]\n",
    "\n",
    "out = os.popen(' '.join(command).format(**env)).read()\n",
    "print(out)"
   ]
  },
  {
   "cell_type": "markdown",
   "metadata": {},
   "source": [
    "## PipelineCLI Predict"
   ]
  },
  {
   "cell_type": "code",
   "execution_count": null,
   "metadata": {},
   "outputs": [],
   "source": [
    "command = \\\n",
    "[\n",
    "    'pipeline', \n",
    "    'predict-server-test', \n",
    "    '--endpoint-url=http://localhost:{PREDCIT_PORT}/invoke', \n",
    "    '--test-request-path=./model/pipeline_test_request.json',\n",
    "]\n",
    "\n",
    "out = os.popen(' '.join(command).format(**env)).read()\n",
    "print(out)"
   ]
  },
  {
   "cell_type": "markdown",
   "metadata": {},
   "source": [
    "### Stop the Model Server"
   ]
  },
  {
   "cell_type": "code",
   "execution_count": null,
   "metadata": {},
   "outputs": [],
   "source": [
    "command = \\\n",
    "[\n",
    "    'pipeline', \n",
    "    'predict-server-stop', \n",
    "    '--model-name={MODEL_NAME}', \n",
    "    '--model-tag={MODEL_TAG}',\n",
    "]\n",
    "\n",
    "out = os.popen(' '.join(command).format(**env)).read()\n",
    "print(out)"
   ]
  }
 ],
 "metadata": {
  "hide_input": false,
  "kernelspec": {
   "display_name": "Python 3",
   "language": "python",
   "name": "python3"
  },
  "language_info": {
   "codemirror_mode": {
    "name": "ipython",
    "version": 3
   },
   "file_extension": ".py",
   "mimetype": "text/x-python",
   "name": "python",
   "nbconvert_exporter": "python",
   "pygments_lexer": "ipython3",
   "version": "3.6.6"
  }
 },
 "nbformat": 4,
 "nbformat_minor": 2
}
